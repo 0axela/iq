{
 "cells": [
  {
   "cell_type": "markdown",
   "id": "0e808d38",
   "metadata": {},
   "source": [
    "<h1> TP3 IQ01, partie 1 </h1>"
   ]
  },
  {
   "cell_type": "markdown",
   "id": "e13e5a8c",
   "metadata": {},
   "source": [
    "L'algorithme de Deutsch-Jozsa a été le premier exemple d'un algorithme quantique dont les performances sont supérieures à celles du meilleur algorithme classique. Il a montré qu'il peut être avantageux d'utiliser un ordinateur quantique comme outil de calcul pour un problème spécifique.\n",
    "<h3> Rappels sur les oracles </h3>\n",
    "\n",
    "Oracle permet d'implémenter en quantique une fonction black box à laquelle on donne un input x et reçoit un output y.\n",
    "Ceci permet de se concentrer sur les technhiques quantiques pour analyser la fonction plutôt que la fonction en elle même.\n",
    "\n",
    "Un boolean oracle : \n",
    "$U_f \\left|x , \\bar 0 \\right\\rangle = \\left|x, f(x)\\right\\rangle.$\n",
    "\n",
    "Ici,\n",
    "$\\left|x , \\bar 0 \\right\\rangle = \\left|x \\right\\rangle \\otimes \\left|\\bar 0 \\right\\rangle$ représente un état à plusieurs qubit composé de 2 registres. Le premier est dans l'état $\\left|x\\right\\rangle$ où x est une représentation binaire de l'input de notre fonction, le nb de qubits dans ce registre est le nb de bits nécéssaires pour représenter l'input.\n",
    "\n",
    "Le deuxième registre permet d'encoder l'output. L'état de ce registre après avoir appliqué $U_f$ sera une représentation binaire de l'output $\\left|f(x)\\right\\rangle$. Ici, tous les qubits sont initialisés à 0.\n",
    "\n",
    "\n",
    "Il existe aussi des phase oracle : $P_f \\left|x \\right\\rangle = (-1)^{f(x)} \\left|x \\right\\rangle$ avec f(x) 0 ou 1, ce qu'on va utiliser ici."
   ]
  },
  {
   "cell_type": "markdown",
   "id": "b9929871",
   "metadata": {},
   "source": [
    "<h3>Etapes de l'algo</h3>\n",
    "\n",
    "1. Préparation des registre quantique (1er : n-qubit registre initiliasé à |0>, 2ème 1-qubit registre initialisé à |1>.\n",
    "2. Application porte Hadamard à tout les qubit n+1qubit\n",
    "3. Application de l'oracle quantique\n",
    "4. Ici, le 2ème registre peut être ignoré. On applique un Hadamard sur chaque qubit du premier registre.\n",
    "5. Mesure du premier registre."
   ]
  },
  {
   "cell_type": "markdown",
   "id": "f84f6966",
   "metadata": {},
   "source": [
    "<h3> Pourquoi ça marche ? </h3>\n",
    "<h4> Oracle constant </h4>\n",
    "\n",
    "Quand l'oracle est constant, pas d'effet sur les qubit en entrée, les états quantiques avant et après l'oracle sont les même. Comme le Hadamard est son propre inverse, on inverse à l'étape 4 l'étape 2 pour obtenir les étatsi nitiaux |00...0> dans le premier registre.\n",
    "\n",
    "$H^{\\otimes n}\\begin{bmatrix} 1 \\\\ 0 \\\\ 0 \\\\ \\vdots \\\\ 0 \\end{bmatrix} \n",
    "= \n",
    "\\tfrac{1}{\\sqrt{2^n}}\\begin{bmatrix} 1 \\\\ 1 \\\\ 1 \\\\ \\vdots \\\\ 1 \\end{bmatrix}\n",
    "\\quad \\xrightarrow{\\text{after } U_f} \\quad\n",
    "H^{\\otimes n}\\tfrac{1}{\\sqrt{2^n}}\\begin{bmatrix} 1 \\\\ 1 \\\\ 1 \\\\ \\vdots \\\\ 1 \\end{bmatrix}\n",
    "= \n",
    "\\begin{bmatrix} 1 \\\\ 0 \\\\ 0 \\\\ \\vdots \\\\ 0 \\end{bmatrix}$\n",
    "\n",
    "<h4> Oracle équilibré </h4>\n",
    "Après l'étape 2, notre registre d'entrée est une égale superposition des états dans la base de calcul. Quand l'oracle est équilibré, ajout d'une phase négative à exactement la moitié des états.\n",
    "\n",
    "$U_f \\tfrac{1}{\\sqrt{2^n}}\\begin{bmatrix} 1 \\\\ 1 \\\\ 1 \\\\ \\vdots \\\\ 1 \\end{bmatrix} \n",
    "= \n",
    "\\tfrac{1}{\\sqrt{2^n}}\\begin{bmatrix} -1 \\\\ 1 \\\\ -1 \\\\ \\vdots \\\\ 1 \\end{bmatrix}$\n",
    "\n",
    "L'état quantique après l'oracle est orthogonal à l'état quantique avant. Donc dans l'étape 4, quand on applique le H gate, on obtient un état quantique orthogonal à |00...0> donc on ne devrait jamais mesurer l'état consititué de tous les 0."
   ]
  },
  {
   "cell_type": "markdown",
   "id": "c103a2c6",
   "metadata": {},
   "source": [
    "<h3> Algorithme et code </h3>"
   ]
  },
  {
   "cell_type": "code",
   "execution_count": 1,
   "id": "bb79bcff",
   "metadata": {},
   "outputs": [],
   "source": [
    "# initialization\n",
    "import numpy as np\n",
    "\n",
    "# importing Qiskit\n",
    "from qiskit import IBMQ, Aer\n",
    "from qiskit.providers.ibmq import least_busy\n",
    "from qiskit import QuantumCircuit, assemble, transpile\n",
    "\n",
    "# import basic plot tools\n",
    "from qiskit.visualization import plot_histogram"
   ]
  },
  {
   "cell_type": "markdown",
   "id": "0e58b5fa",
   "metadata": {},
   "source": [
    "<h4> Oracle constant </h4>"
   ]
  },
  {
   "cell_type": "markdown",
   "id": "fbc23c99",
   "metadata": {},
   "source": [
    "Dans le cas d'un oracle constant, l'input n'a pas d'effet sur l'output donc on met le qubit de output soir à 0 soit à 1, peu importe."
   ]
  },
  {
   "cell_type": "code",
   "execution_count": 3,
   "id": "94e2a4c8",
   "metadata": {},
   "outputs": [
    {
     "data": {
      "text/html": [
       "<pre style=\"word-wrap: normal;white-space: pre;background: #fff0;line-height: 1.1;font-family: &quot;Courier New&quot;,Courier,monospace\">     \n",
       "q_0: \n",
       "     \n",
       "q_1: \n",
       "     \n",
       "q_2: \n",
       "     \n",
       "q_3: \n",
       "     </pre>"
      ],
      "text/plain": [
       "     \n",
       "q_0: \n",
       "     \n",
       "q_1: \n",
       "     \n",
       "q_2: \n",
       "     \n",
       "q_3: \n",
       "     "
      ]
     },
     "execution_count": 3,
     "metadata": {},
     "output_type": "execute_result"
    }
   ],
   "source": [
    "# set the length of the n-bit input string. \n",
    "n = 3\n",
    "\n",
    "const_oracle = QuantumCircuit(n+1)\n",
    "\n",
    "output = np.random.randint(2)\n",
    "if output == 1:\n",
    "    const_oracle.x(n)\n",
    "\n",
    "const_oracle.draw()"
   ]
  },
  {
   "cell_type": "markdown",
   "id": "ffc7ec58",
   "metadata": {},
   "source": [
    "<h4> Oracle équilibré </h4>"
   ]
  },
  {
   "cell_type": "markdown",
   "id": "959da544",
   "metadata": {},
   "source": [
    "On le crée en utilisant des CNOT avec pour contrôle chaque qubit d'entrée et pour target chaque qubit de sortie. Nous pouvons varier les états d'entrée qui donnent 0 ou 1 en enveloppant certaines des commandes dans des X-gates."
   ]
  },
  {
   "cell_type": "code",
   "execution_count": 10,
   "id": "6c1155f2",
   "metadata": {},
   "outputs": [
    {
     "data": {
      "text/html": [
       "<pre style=\"word-wrap: normal;white-space: pre;background: #fff0;line-height: 1.1;font-family: &quot;Courier New&quot;,Courier,monospace\">     ┌───┐ ░                 ░ ┌───┐\n",
       "q_0: ┤ X ├─░───■─────────────░─┤ X ├\n",
       "     └───┘ ░   │             ░ └───┘\n",
       "q_1: ──────░───┼────■────────░──────\n",
       "     ┌───┐ ░   │    │        ░ ┌───┐\n",
       "q_2: ┤ X ├─░───┼────┼────■───░─┤ X ├\n",
       "     └───┘ ░ ┌─┴─┐┌─┴─┐┌─┴─┐ ░ └───┘\n",
       "q_3: ──────░─┤ X ├┤ X ├┤ X ├─░──────\n",
       "           ░ └───┘└───┘└───┘ ░      </pre>"
      ],
      "text/plain": [
       "     ┌───┐ ░                 ░ ┌───┐\n",
       "q_0: ┤ X ├─░───■─────────────░─┤ X ├\n",
       "     └───┘ ░   │             ░ └───┘\n",
       "q_1: ──────░───┼────■────────░──────\n",
       "     ┌───┐ ░   │    │        ░ ┌───┐\n",
       "q_2: ┤ X ├─░───┼────┼────■───░─┤ X ├\n",
       "     └───┘ ░ ┌─┴─┐┌─┴─┐┌─┴─┐ ░ └───┘\n",
       "q_3: ──────░─┤ X ├┤ X ├┤ X ├─░──────\n",
       "           ░ └───┘└───┘└───┘ ░      "
      ]
     },
     "execution_count": 10,
     "metadata": {},
     "output_type": "execute_result"
    }
   ],
   "source": [
    "balanced_oracle = QuantumCircuit(n+1)\n",
    "b_str = \"101\"\n",
    "\n",
    "# Place X-gates\n",
    "for qubit in range(len(b_str)):\n",
    "    if b_str[qubit] == '1':\n",
    "        balanced_oracle.x(qubit)\n",
    "\n",
    "# Use barrier as divider\n",
    "balanced_oracle.barrier()\n",
    "\n",
    "# Controlled-NOT gates\n",
    "for qubit in range(n):\n",
    "    balanced_oracle.cx(qubit, n)\n",
    "\n",
    "balanced_oracle.barrier()\n",
    "\n",
    "# Place X-gates\n",
    "for qubit in range(len(b_str)):\n",
    "    if b_str[qubit] == '1':\n",
    "        balanced_oracle.x(qubit)\n",
    "\n",
    "# Show oracle\n",
    "balanced_oracle.draw()\n",
    "\n"
   ]
  },
  {
   "cell_type": "markdown",
   "id": "148b6b50",
   "metadata": {},
   "source": [
    "On peut maintenant faire l'algo final : \n",
    "\n",
    "On commence par initiliser tous les qubits en input à |+> et les qubit en output à |->."
   ]
  },
  {
   "cell_type": "code",
   "execution_count": 11,
   "id": "284e099b",
   "metadata": {},
   "outputs": [
    {
     "data": {
      "text/html": [
       "<pre style=\"word-wrap: normal;white-space: pre;background: #fff0;line-height: 1.1;font-family: &quot;Courier New&quot;,Courier,monospace\">     ┌───┐     \n",
       "q_0: ┤ H ├─────\n",
       "     ├───┤     \n",
       "q_1: ┤ H ├─────\n",
       "     ├───┤     \n",
       "q_2: ┤ H ├─────\n",
       "     ├───┤┌───┐\n",
       "q_3: ┤ X ├┤ H ├\n",
       "     └───┘└───┘\n",
       "c: 3/══════════\n",
       "               </pre>"
      ],
      "text/plain": [
       "     ┌───┐     \n",
       "q_0: ┤ H ├─────\n",
       "     ├───┤     \n",
       "q_1: ┤ H ├─────\n",
       "     ├───┤     \n",
       "q_2: ┤ H ├─────\n",
       "     ├───┤┌───┐\n",
       "q_3: ┤ X ├┤ H ├\n",
       "     └───┘└───┘\n",
       "c: 3/══════════\n",
       "               "
      ]
     },
     "execution_count": 11,
     "metadata": {},
     "output_type": "execute_result"
    }
   ],
   "source": [
    "dj_circuit = QuantumCircuit(n+1, n)\n",
    "\n",
    "# Apply H-gates\n",
    "for qubit in range(n):\n",
    "    dj_circuit.h(qubit)\n",
    "\n",
    "# Put qubit in state |->\n",
    "dj_circuit.x(n)\n",
    "dj_circuit.h(n)\n",
    "dj_circuit.draw()"
   ]
  },
  {
   "cell_type": "markdown",
   "id": "a9b4113c",
   "metadata": {},
   "source": [
    "On applique l'oracle : "
   ]
  },
  {
   "cell_type": "code",
   "execution_count": 12,
   "id": "d868badc",
   "metadata": {},
   "outputs": [
    {
     "name": "stderr",
     "output_type": "stream",
     "text": [
      "C:\\Users\\axela\\AppData\\Local\\Temp\\ipykernel_23260\\525878989.py:12: DeprecationWarning: The QuantumCircuit.__iadd__() method is being deprecated. Use the compose() (potentially with the inplace=True argument) and tensor() methods which are more flexible w.r.t circuit register compatibility.\n",
      "  dj_circuit += balanced_oracle\n"
     ]
    },
    {
     "data": {
      "text/html": [
       "<pre style=\"word-wrap: normal;white-space: pre;background: #fff0;line-height: 1.1;font-family: &quot;Courier New&quot;,Courier,monospace\">     ┌───┐┌───┐ ░                 ░ ┌───┐\n",
       "q_0: ┤ H ├┤ X ├─░───■─────────────░─┤ X ├\n",
       "     ├───┤└───┘ ░   │             ░ └───┘\n",
       "q_1: ┤ H ├──────░───┼────■────────░──────\n",
       "     ├───┤┌───┐ ░   │    │        ░ ┌───┐\n",
       "q_2: ┤ H ├┤ X ├─░───┼────┼────■───░─┤ X ├\n",
       "     ├───┤├───┤ ░ ┌─┴─┐┌─┴─┐┌─┴─┐ ░ └───┘\n",
       "q_3: ┤ X ├┤ H ├─░─┤ X ├┤ X ├┤ X ├─░──────\n",
       "     └───┘└───┘ ░ └───┘└───┘└───┘ ░      \n",
       "c: 3/════════════════════════════════════\n",
       "                                         </pre>"
      ],
      "text/plain": [
       "     ┌───┐┌───┐ ░                 ░ ┌───┐\n",
       "q_0: ┤ H ├┤ X ├─░───■─────────────░─┤ X ├\n",
       "     ├───┤└───┘ ░   │             ░ └───┘\n",
       "q_1: ┤ H ├──────░───┼────■────────░──────\n",
       "     ├───┤┌───┐ ░   │    │        ░ ┌───┐\n",
       "q_2: ┤ H ├┤ X ├─░───┼────┼────■───░─┤ X ├\n",
       "     ├───┤├───┤ ░ ┌─┴─┐┌─┴─┐┌─┴─┐ ░ └───┘\n",
       "q_3: ┤ X ├┤ H ├─░─┤ X ├┤ X ├┤ X ├─░──────\n",
       "     └───┘└───┘ ░ └───┘└───┘└───┘ ░      \n",
       "c: 3/════════════════════════════════════\n",
       "                                         "
      ]
     },
     "execution_count": 12,
     "metadata": {},
     "output_type": "execute_result"
    }
   ],
   "source": [
    "dj_circuit = QuantumCircuit(n+1, n)\n",
    "\n",
    "# Apply H-gates\n",
    "for qubit in range(n):\n",
    "    dj_circuit.h(qubit)\n",
    "\n",
    "# Put qubit in state |->\n",
    "dj_circuit.x(n)\n",
    "dj_circuit.h(n)\n",
    "\n",
    "# Add oracle\n",
    "dj_circuit += balanced_oracle\n",
    "dj_circuit.draw()"
   ]
  },
  {
   "cell_type": "markdown",
   "id": "5c14c3f2",
   "metadata": {},
   "source": [
    "On applique les portes Hadamard sur les n qubit d'entrée et on mesure le registre d'entrée."
   ]
  },
  {
   "cell_type": "code",
   "execution_count": 13,
   "id": "09cd95f8",
   "metadata": {
    "scrolled": true
   },
   "outputs": [
    {
     "name": "stderr",
     "output_type": "stream",
     "text": [
      "C:\\Users\\axela\\AppData\\Local\\Temp\\ipykernel_23260\\2412001177.py:12: DeprecationWarning: The QuantumCircuit.__iadd__() method is being deprecated. Use the compose() (potentially with the inplace=True argument) and tensor() methods which are more flexible w.r.t circuit register compatibility.\n",
      "  dj_circuit += balanced_oracle\n"
     ]
    },
    {
     "data": {
      "text/html": [
       "<pre style=\"word-wrap: normal;white-space: pre;background: #fff0;line-height: 1.1;font-family: &quot;Courier New&quot;,Courier,monospace\">     ┌───┐┌───┐ ░                 ░ ┌───┐┌───┐ ░ ┌─┐      \n",
       "q_0: ┤ H ├┤ X ├─░───■─────────────░─┤ X ├┤ H ├─░─┤M├──────\n",
       "     ├───┤└───┘ ░   │             ░ ├───┤└───┘ ░ └╥┘┌─┐   \n",
       "q_1: ┤ H ├──────░───┼────■────────░─┤ H ├──────░──╫─┤M├───\n",
       "     ├───┤┌───┐ ░   │    │        ░ ├───┤┌───┐ ░  ║ └╥┘┌─┐\n",
       "q_2: ┤ H ├┤ X ├─░───┼────┼────■───░─┤ X ├┤ H ├─░──╫──╫─┤M├\n",
       "     ├───┤├───┤ ░ ┌─┴─┐┌─┴─┐┌─┴─┐ ░ └───┘└───┘ ░  ║  ║ └╥┘\n",
       "q_3: ┤ X ├┤ H ├─░─┤ X ├┤ X ├┤ X ├─░────────────░──╫──╫──╫─\n",
       "     └───┘└───┘ ░ └───┘└───┘└───┘ ░            ░  ║  ║  ║ \n",
       "c: 3/═════════════════════════════════════════════╩══╩══╩═\n",
       "                                                  0  1  2 </pre>"
      ],
      "text/plain": [
       "     ┌───┐┌───┐ ░                 ░ ┌───┐┌───┐ ░ ┌─┐      \n",
       "q_0: ┤ H ├┤ X ├─░───■─────────────░─┤ X ├┤ H ├─░─┤M├──────\n",
       "     ├───┤└───┘ ░   │             ░ ├───┤└───┘ ░ └╥┘┌─┐   \n",
       "q_1: ┤ H ├──────░───┼────■────────░─┤ H ├──────░──╫─┤M├───\n",
       "     ├───┤┌───┐ ░   │    │        ░ ├───┤┌───┐ ░  ║ └╥┘┌─┐\n",
       "q_2: ┤ H ├┤ X ├─░───┼────┼────■───░─┤ X ├┤ H ├─░──╫──╫─┤M├\n",
       "     ├───┤├───┤ ░ ┌─┴─┐┌─┴─┐┌─┴─┐ ░ └───┘└───┘ ░  ║  ║ └╥┘\n",
       "q_3: ┤ X ├┤ H ├─░─┤ X ├┤ X ├┤ X ├─░────────────░──╫──╫──╫─\n",
       "     └───┘└───┘ ░ └───┘└───┘└───┘ ░            ░  ║  ║  ║ \n",
       "c: 3/═════════════════════════════════════════════╩══╩══╩═\n",
       "                                                  0  1  2 "
      ]
     },
     "execution_count": 13,
     "metadata": {},
     "output_type": "execute_result"
    }
   ],
   "source": [
    "dj_circuit = QuantumCircuit(n+1, n)\n",
    "\n",
    "# Apply H-gates\n",
    "for qubit in range(n):\n",
    "    dj_circuit.h(qubit)\n",
    "\n",
    "# Put qubit in state |->\n",
    "dj_circuit.x(n)\n",
    "dj_circuit.h(n)\n",
    "\n",
    "# Add oracle\n",
    "dj_circuit += balanced_oracle\n",
    "\n",
    "# Repeat H-gates\n",
    "for qubit in range(n):\n",
    "    dj_circuit.h(qubit)\n",
    "dj_circuit.barrier()\n",
    "\n",
    "# Measure\n",
    "for i in range(n):\n",
    "    dj_circuit.measure(i, i)\n",
    "\n",
    "# Display circuit\n",
    "dj_circuit.draw()\n"
   ]
  },
  {
   "cell_type": "code",
   "execution_count": 14,
   "id": "d1009fe2",
   "metadata": {
    "scrolled": true
   },
   "outputs": [
    {
     "data": {
      "image/png": "[encoded data removed]",
      "text/plain": [
       "<Figure size 700x500 with 1 Axes>"
      ]
     },
     "execution_count": 14,
     "metadata": {},
     "output_type": "execute_result"
    }
   ],
   "source": [
    "# use local simulator\n",
    "aer_sim = Aer.get_backend('aer_simulator')\n",
    "qobj = assemble(dj_circuit, aer_sim)\n",
    "results = aer_sim.run(qobj).result()\n",
    "answer = results.get_counts()\n",
    "\n",
    "plot_histogram(answer)\n"
   ]
  },
  {
   "cell_type": "markdown",
   "id": "bdd11c6d",
   "metadata": {},
   "source": [
    "On a utilisé balanced_oracle, on a bien une chance nulle de mesurer 000 donc la fonction est bien équilibrée."
   ]
  },
  {
   "cell_type": "markdown",
   "id": "264101c5",
   "metadata": {},
   "source": [
    "On peut réaliser une fonction généraliser pour faire des tests !\n",
    "On crée d'abord une fonction qui crée des oracles deutsch-jozsa."
   ]
  },
  {
   "cell_type": "code",
   "execution_count": 19,
   "id": "d70bd820",
   "metadata": {},
   "outputs": [],
   "source": [
    "def dj_oracle(case, n):\n",
    "    # We need to make a QuantumCircuit object to return\n",
    "    # This circuit has n+1 qubits: the size of the input,\n",
    "    # plus one output qubit\n",
    "    oracle_qc = QuantumCircuit(n+1)\n",
    "    \n",
    "    # First, let's deal with the case in which oracle is balanced\n",
    "    if case == \"balanced\":\n",
    "        # First generate a random number that tells us which CNOTs to\n",
    "        # wrap in X-gates:\n",
    "        b = np.random.randint(1,2**n)\n",
    "        # Next, format 'b' as a binary string of length 'n', padded with zeros:\n",
    "        b_str = format(b, '0'+str(n)+'b')\n",
    "        # Next, we place the first X-gates. Each digit in our binary string \n",
    "        # corresponds to a qubit, if the digit is 0, we do nothing, if it's 1\n",
    "        # we apply an X-gate to that qubit:\n",
    "        for qubit in range(len(b_str)):\n",
    "            if b_str[qubit] == '1':\n",
    "                oracle_qc.x(qubit)\n",
    "        # Do the controlled-NOT gates for each qubit, using the output qubit \n",
    "        # as the target:\n",
    "        for qubit in range(n):\n",
    "            oracle_qc.cx(qubit, n)\n",
    "        # Next, place the final X-gates\n",
    "        for qubit in range(len(b_str)):\n",
    "            if b_str[qubit] == '1':\n",
    "                oracle_qc.x(qubit)\n",
    "\n",
    "    # Case in which oracle is constant\n",
    "    if case == \"constant\":\n",
    "        # First decide what the fixed output of the oracle will be\n",
    "        # (either always 0 or always 1)\n",
    "        output = np.random.randint(2)\n",
    "        if output == 1:\n",
    "            oracle_qc.x(n)\n",
    "    \n",
    "    oracle_gate = oracle_qc.to_gate()\n",
    "    oracle_gate.name = \"Oracle\" # To show when we display the circuit\n",
    "    return oracle_gate\n"
   ]
  },
  {
   "cell_type": "markdown",
   "id": "4bed2dee",
   "metadata": {},
   "source": [
    "On peut ensuite créer une fonction qui prend cet oracle et lui applique l'algo."
   ]
  },
  {
   "cell_type": "code",
   "execution_count": 20,
   "id": "c428239c",
   "metadata": {},
   "outputs": [],
   "source": [
    "def dj_algorithm(oracle, n):\n",
    "    dj_circuit = QuantumCircuit(n+1, n)\n",
    "    # Set up the output qubit:\n",
    "    dj_circuit.x(n)\n",
    "    dj_circuit.h(n)\n",
    "    # And set up the input register:\n",
    "    for qubit in range(n):\n",
    "        dj_circuit.h(qubit)\n",
    "    # Let's append the oracle gate to our circuit:\n",
    "    dj_circuit.append(oracle, range(n+1))\n",
    "    # Finally, perform the H-gates again and measure:\n",
    "    for qubit in range(n):\n",
    "        dj_circuit.h(qubit)\n",
    "    \n",
    "    for i in range(n):\n",
    "        dj_circuit.measure(i, i)\n",
    "    \n",
    "    return dj_circuit\n"
   ]
  },
  {
   "cell_type": "markdown",
   "id": "21c3ac47",
   "metadata": {},
   "source": [
    "On peut ensuite faire des tests : "
   ]
  },
  {
   "cell_type": "code",
   "execution_count": 26,
   "id": "e40f124e",
   "metadata": {},
   "outputs": [
    {
     "data": {
      "image/png": "[encoded data removed]",
      "text/plain": [
       "<Figure size 789.163x451.5 with 1 Axes>"
      ]
     },
     "execution_count": 26,
     "metadata": {},
     "output_type": "execute_result"
    }
   ],
   "source": [
    "n = 3\n",
    "oracle_gate = dj_oracle('constant', n)\n",
    "dj_circuit = dj_algorithm(oracle_gate, n)\n",
    "dj_circuit.draw('mpl')\n"
   ]
  },
  {
   "cell_type": "code",
   "execution_count": 27,
   "id": "85c10e35",
   "metadata": {
    "scrolled": true
   },
   "outputs": [
    {
     "data": {
      "image/png": "[encoded data removed]",
      "text/plain": [
       "<Figure size 700x500 with 1 Axes>"
      ]
     },
     "execution_count": 27,
     "metadata": {},
     "output_type": "execute_result"
    }
   ],
   "source": [
    "transpiled_dj_circuit = transpile(dj_circuit, aer_sim)\n",
    "qobj = assemble(transpiled_dj_circuit)\n",
    "results = aer_sim.run(qobj).result()\n",
    "answer = results.get_counts()\n",
    "plot_histogram(answer)\n"
   ]
  },
  {
   "cell_type": "markdown",
   "id": "bd2279d6",
   "metadata": {},
   "source": [
    "<h3> Résumé, notes </h3>\n",
    "\n",
    "\n",
    "Ainsi, on a voulait déterminer si la fonction était équilibrée ou constante avec seulement 1 appel. On a défini l'oracle dans ces deux cas.\n",
    "\n",
    "Pour le cas constant, on choisit aléatoirement si l'oracle renvoie uniquement des 0 ou uniquement des 1. Si l'oracle renvoie uniquement des 0, on ne fait rien car q3 est initialisé à l'état |0>. Si l'oracle renvoie uniquement des 1, on applique une porte X sur q3 pour qu'il soit dans l'état |1>.\n",
    "\n",
    "\n",
    "Pour le cas équilibré, on met 3 CNOT sur q0, q1, q2 tandis que q3 est la sortie. Ces 3 CNOT permettent l'équilibrage (moitié 1, moitié 1).\n",
    "On peut varier les fonctions équilibrées en modifiant les input des qubits q0, q1 et q2. Dans notre code, on se sert d'une chaine de caractère qui, quand elle est modifiée, permet d'obtenir une fonction différente mais toujours équilibrée. On place ensuite des portes X sur les qubits où on a fait une porte X pour inverser la manipulation.\n",
    "\n",
    "\n",
    "Une fois notre oracle terminé, on peut s'occuper de l'algorithme. On commence par appliquer une porte H sur les 3 qubits en input. Puis, on applique une porte X et une porte H sur le qubit d'output. On applique ensuite l'oracle (soit balanced soit constant). On rapplique les porte H sur les 3 qubits en input et enfin, on les mesure.\n",
    "\n",
    "\n",
    "Le résultat des mesures nous donne ainsi notre réponse et ce en 1 seul appel de l'oracle : quand l'oracle est constante, on mesure |000> et quand l'oracle est équilibré, on mesure |111>. (ici n = 3).\n",
    "\n",
    "\n",
    "La généralisation à n qubits suit le même raisonnement.\n"
   ]
  },
  {
   "cell_type": "markdown",
   "id": "a828fbbb",
   "metadata": {},
   "source": [
    "<h1> TP3 IQ01, partie 2 </h1>"
   ]
  },
  {
   "cell_type": "markdown",
   "id": "0e90d018",
   "metadata": {},
   "source": [
    "L'algorithme de Simon, comme celui de Deutsch-Josza, permet de montrer l'efficacité du quantique par rapport à un système classique.\n",
    "Le problème de Simon constiste en une fonction black box qui peut être de 2 types : \n",
    "\n",
    "one-to-one : f(x) = x\n",
    "\n",
    "two-to-one : f(x1) = f(x2) -> f(1) = 1, f(2) =2 , f(3) = 1, f(4) = 2 (notation simplifiée dans l'énoncé)."
   ]
  },
  {
   "cell_type": "markdown",
   "id": "14b988e0",
   "metadata": {},
   "source": [
    "<h3> Analyse </h3>\n",
    "\n",
    "On rensigne au départ la chaîne de bits b (de longueur n) puis on crée un registre quantique de $2^n$ qubits et un registre classique de n bits. Ensuite, on appliqui\n",
    "e des portes Hadamard sur les n premiers qubits du registre quantique pour réaliser la superposition.\n",
    "On applique ensuite l'oracle (que l'on a pas développé) qui prend en compte la chaine b sur les $2^n$ qubits.\n",
    "On réapplique les portes hadamard sur les n premiers qubits du registre quantique et on mesure seulement ces qubits.\n",
    "\n",
    "Ensuite, quand b est une chaine de plusieurs 0 (pour n =3, 000), on obtient $2^n$ mesures. Donc, pour chaque entrée, une seule solution est mesurée. Cette chaine b correspond donc au premier cas (une sortie unique pour chaque entrée).\n",
    "\n",
    "Dans le cas où b n'est pas une suite de plusieurs 0, le nombre de sorties/output est de $2^{n-1}$ ou $2^{n}/2$. Cela correspond au deuxième cas où une sortie unique correspond à 2 entrées différentes.\n",
    "\n",
    "\n",
    "La fonction bdotz permet la vérification. On a une sortie avec les mesures sur les n premiers qubits dans le cas où :\n",
    "\n",
    "$(-1)^{x \\cdot z} = (-1)^{y \\cdot z}$\n",
    "\n",
    "$x \\cdot z = y \\cdot z \\\\\n",
    "     x \\cdot z = \\left( x \\oplus b \\right) \\cdot z \\\\\n",
    "     x \\cdot z = x \\cdot z \\oplus b \\cdot z \\\\\n",
    "     b \\cdot z = 0 \\text{ (mod 2)}$\n",
    "     \n",
    "A partir de chaque output z, on vérifie cette égalité et on obtient finalement le système d'équations à partir duquel b peut être déterminé.\n"
   ]
  },
  {
   "cell_type": "markdown",
   "id": "c3b6b072",
   "metadata": {},
   "source": [
    "<h3> Algorithme et exemple </h3>"
   ]
  },
  {
   "cell_type": "markdown",
   "id": "d9e0690b",
   "metadata": {},
   "source": [
    "Implémentation avec 3 qubits et b = 110. On peut modifier la valeur de b pour effectuer différents tests."
   ]
  },
  {
   "cell_type": "code",
   "execution_count": 1,
   "id": "26fd8b86",
   "metadata": {},
   "outputs": [],
   "source": [
    "# importing Qiskit\n",
    "from qiskit import IBMQ, Aer\n",
    "from qiskit.providers.ibmq import least_busy\n",
    "from qiskit import QuantumCircuit, transpile, assemble\n",
    "\n",
    "# import basic plot tools\n",
    "from qiskit.visualization import plot_histogram\n",
    "from qiskit_textbook.tools import simon_oracle"
   ]
  },
  {
   "cell_type": "markdown",
   "id": "5b0c4344",
   "metadata": {},
   "source": [
    "On ne se préoccupe pas le l'output du 2ème registre, on ne va mesurer que le premier registre."
   ]
  },
  {
   "cell_type": "code",
   "execution_count": 14,
   "id": "73f274a5",
   "metadata": {},
   "outputs": [
    {
     "name": "stderr",
     "output_type": "stream",
     "text": [
      "C:\\Users\\axela\\AppData\\Local\\Temp\\ipykernel_13584\\3044569139.py:12: DeprecationWarning: The QuantumCircuit.__iadd__() method is being deprecated. Use the compose() (potentially with the inplace=True argument) and tensor() methods which are more flexible w.r.t circuit register compatibility.\n",
      "  simon_circuit += simon_oracle(b)\n"
     ]
    },
    {
     "data": {
      "text/html": [
       "<pre style=\"word-wrap: normal;white-space: pre;background: #fff0;line-height: 1.1;font-family: &quot;Courier New&quot;,Courier,monospace\">     ┌───┐ ░                           ░ ┌───┐┌─┐      \n",
       "q_0: ┤ H ├─░───■───────────────────────░─┤ H ├┤M├──────\n",
       "     ├───┤ ░   │                       ░ ├───┤└╥┘┌─┐   \n",
       "q_1: ┤ H ├─░───┼────■─────────■────■───░─┤ H ├─╫─┤M├───\n",
       "     ├───┤ ░   │    │         │    │   ░ ├───┤ ║ └╥┘┌─┐\n",
       "q_2: ┤ H ├─░───┼────┼────■────┼────┼───░─┤ H ├─╫──╫─┤M├\n",
       "     └───┘ ░ ┌─┴─┐  │    │    │    │   ░ └───┘ ║  ║ └╥┘\n",
       "q_3: ──────░─┤ X ├──┼────┼────┼────┼───░───────╫──╫──╫─\n",
       "           ░ └───┘┌─┴─┐  │  ┌─┴─┐  │   ░       ║  ║  ║ \n",
       "q_4: ──────░──────┤ X ├──┼──┤ X ├──┼───░───────╫──╫──╫─\n",
       "           ░      └───┘┌─┴─┐└───┘┌─┴─┐ ░       ║  ║  ║ \n",
       "q_5: ──────░───────────┤ X ├─────┤ X ├─░───────╫──╫──╫─\n",
       "           ░           └───┘     └───┘ ░       ║  ║  ║ \n",
       "c: 3/══════════════════════════════════════════╩══╩══╩═\n",
       "                                               0  1  2 </pre>"
      ],
      "text/plain": [
       "     ┌───┐ ░                           ░ ┌───┐┌─┐      \n",
       "q_0: ┤ H ├─░───■───────────────────────░─┤ H ├┤M├──────\n",
       "     ├───┤ ░   │                       ░ ├───┤└╥┘┌─┐   \n",
       "q_1: ┤ H ├─░───┼────■─────────■────■───░─┤ H ├─╫─┤M├───\n",
       "     ├───┤ ░   │    │         │    │   ░ ├───┤ ║ └╥┘┌─┐\n",
       "q_2: ┤ H ├─░───┼────┼────■────┼────┼───░─┤ H ├─╫──╫─┤M├\n",
       "     └───┘ ░ ┌─┴─┐  │    │    │    │   ░ └───┘ ║  ║ └╥┘\n",
       "q_3: ──────░─┤ X ├──┼────┼────┼────┼───░───────╫──╫──╫─\n",
       "           ░ └───┘┌─┴─┐  │  ┌─┴─┐  │   ░       ║  ║  ║ \n",
       "q_4: ──────░──────┤ X ├──┼──┤ X ├──┼───░───────╫──╫──╫─\n",
       "           ░      └───┘┌─┴─┐└───┘┌─┴─┐ ░       ║  ║  ║ \n",
       "q_5: ──────░───────────┤ X ├─────┤ X ├─░───────╫──╫──╫─\n",
       "           ░           └───┘     └───┘ ░       ║  ║  ║ \n",
       "c: 3/══════════════════════════════════════════╩══╩══╩═\n",
       "                                               0  1  2 "
      ]
     },
     "execution_count": 14,
     "metadata": {},
     "output_type": "execute_result"
    }
   ],
   "source": [
    "b = '110'\n",
    "\n",
    "n = len(b)\n",
    "simon_circuit = QuantumCircuit(n*2, n)\n",
    "\n",
    "# Apply Hadamard gates before querying the oracle\n",
    "simon_circuit.h(range(n))    \n",
    "    \n",
    "# Apply barrier for visual separation\n",
    "simon_circuit.barrier()\n",
    "\n",
    "simon_circuit += simon_oracle(b)\n",
    "\n",
    "# Apply barrier for visual separation\n",
    "simon_circuit.barrier()\n",
    "\n",
    "# Apply Hadamard gates to the input register\n",
    "simon_circuit.h(range(n))\n",
    "\n",
    "# Measure qubits\n",
    "simon_circuit.measure(range(n), range(n))\n",
    "simon_circuit.draw()\n"
   ]
  },
  {
   "cell_type": "code",
   "execution_count": 16,
   "id": "1968efa5",
   "metadata": {},
   "outputs": [
    {
     "data": {
      "image/png": "[encoded data removed]",
      "text/plain": [
       "<Figure size 700x500 with 1 Axes>"
      ]
     },
     "execution_count": 16,
     "metadata": {},
     "output_type": "execute_result"
    }
   ],
   "source": [
    "# use local simulator\n",
    "aer_sim = Aer.get_backend('aer_simulator')\n",
    "shots = 1024\n",
    "qobj = assemble(simon_circuit, shots=shots)\n",
    "results = aer_sim.run(qobj).result()\n",
    "counts = results.get_counts()\n",
    "plot_histogram(counts)\n"
   ]
  },
  {
   "cell_type": "markdown",
   "id": "1455538b",
   "metadata": {},
   "source": [
    "On obtient 4 sorties.\n",
    "On vérifie que les résultats satisfont b.z = 0 (mod 2)"
   ]
  },
  {
   "cell_type": "code",
   "execution_count": 17,
   "id": "6006d2b7",
   "metadata": {},
   "outputs": [
    {
     "name": "stdout",
     "output_type": "stream",
     "text": [
      "110.000 = 0 (mod 2)\n",
      "110.110 = 0 (mod 2)\n",
      "110.111 = 0 (mod 2)\n",
      "110.001 = 0 (mod 2)\n"
     ]
    }
   ],
   "source": [
    "# Calculate the dot product of the results\n",
    "def bdotz(b, z):\n",
    "    accum = 0\n",
    "    for i in range(len(b)):\n",
    "        accum += int(b[i]) * int(z[i])\n",
    "    return (accum % 2)\n",
    "\n",
    "for z in counts:\n",
    "    print( '{}.{} = {} (mod 2)'.format(b, z, bdotz(b,z)) )\n"
   ]
  },
  {
   "cell_type": "markdown",
   "id": "a233e9de",
   "metadata": {},
   "source": [
    "En utilisant les résultats, on peut retrouver la valeur de b = 110 en résolvant cet ensemble d'équations. Par exemple, si notre première mesure est 001, on a que : "
   ]
  },
  {
   "cell_type": "markdown",
   "id": "57ab4ad0",
   "metadata": {},
   "source": [
    "$\\require{cancel}\n",
    "\\begin{aligned}\n",
    "b \\cdot 001 &= 0 \\\\\n",
    "(b_2 \\cdot 0) + (b_1 \\cdot 0) + (b_0 \\cdot 1) & = 0 \\\\\n",
    "(\\cancel{b_2 \\cdot 0}) + (\\cancel{b_1 \\cdot 0}) + (b_0 \\cdot 1) & = 0 \\\\\n",
    "b_0 & = 0\\\\\n",
    "\\end{aligned}$"
   ]
  },
  {
   "cell_type": "markdown",
   "id": "60f1e2f5",
   "metadata": {},
   "source": [
    "Si ensuite, on mesure 111, on a :"
   ]
  },
  {
   "cell_type": "markdown",
   "id": "c369c995",
   "metadata": {},
   "source": [
    "$\\require{cancel}\n",
    "\\begin{aligned}\n",
    "b \\cdot 111 &= 0 \\\\\n",
    "(b_2 \\cdot 1) + (b_1 \\cdot 1) + (\\cancel{0 \\cdot 1}) & = 0 \\\\\n",
    "(b_2 \\cdot 1) + (b_1 \\cdot 1) & = 0 \\\\\n",
    "\\end{aligned}$"
   ]
  },
  {
   "cell_type": "markdown",
   "id": "d393031b",
   "metadata": {},
   "source": [
    "Ce qui nous donne soit"
   ]
  },
  {
   "cell_type": "markdown",
   "id": "ace28fe3",
   "metadata": {},
   "source": [
    "$b_2 = b_1 = 0, \\quad b = 000$"
   ]
  },
  {
   "cell_type": "markdown",
   "id": "3f0ed3fe",
   "metadata": {},
   "source": [
    "soit,"
   ]
  },
  {
   "cell_type": "markdown",
   "id": "cbcd00d9",
   "metadata": {},
   "source": [
    "$b_2 = b_1 = 1, \\quad b = 110$"
   ]
  },
  {
   "cell_type": "markdown",
   "id": "0211516b",
   "metadata": {},
   "source": [
    "Et donc b = 110 est la solution non-triviale de nos équations simultanées. On le fait en général par élimination gaussienne."
   ]
  },
  {
   "cell_type": "code",
   "execution_count": null,
   "id": "ef1cdc29",
   "metadata": {},
   "outputs": [],
   "source": []
  }
 ],
 "metadata": {
  "kernelspec": {
   "display_name": "Python 3 (ipykernel)",
   "language": "python",
   "name": "python3"
  },
  "language_info": {
   "codemirror_mode": {
    "name": "ipython",
    "version": 3
   },
   "file_extension": ".py",
   "mimetype": "text/x-python",
   "name": "python",
   "nbconvert_exporter": "python",
   "pygments_lexer": "ipython3",
   "version": "3.10.4"
  }
 },
 "nbformat": 4,
 "nbformat_minor": 5
}
